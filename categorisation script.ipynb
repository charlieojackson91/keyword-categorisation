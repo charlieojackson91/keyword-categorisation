{
 "cells": [
  {
   "cell_type": "code",
   "execution_count": 257,
   "metadata": {},
   "outputs": [],
   "source": [
    "import pandas as pd\n",
    "import matplotlib.pyplot as plt\n",
    "import seaborn as sns\n",
    "import nltk\n",
    "from nltk.tokenize import sent_tokenize, word_tokenize\n",
    "from nltk.corpus import stopwords\n",
    "from collections import Counter\n",
    "import csv\n",
    "from nltk import ngrams, FreqDist\n",
    "from dct import category_dct\n",
    "\n",
    "wnl     = nltk.WordNetLemmatizer()\n",
    "stemmer = nltk.PorterStemmer()\n",
    "\n",
    "stop_words = list(stopwords.words('english'))\n",
    "sns.set()"
   ]
  },
  {
   "cell_type": "code",
   "execution_count": 258,
   "metadata": {},
   "outputs": [
    {
     "data": {
      "text/plain": [
       "['i', 'me', 'my', 'myself', 'we', 'our', 'ours', 'ourselves', 'you', \"you're\"]"
      ]
     },
     "execution_count": 258,
     "metadata": {},
     "output_type": "execute_result"
    }
   ],
   "source": [
    "stop_words[:10]"
   ]
  },
  {
   "cell_type": "code",
   "execution_count": 259,
   "metadata": {},
   "outputs": [],
   "source": [
    "df = pd.read_csv('keywords.csv')"
   ]
  },
  {
   "cell_type": "code",
   "execution_count": 260,
   "metadata": {},
   "outputs": [],
   "source": [
    "df.drop_duplicates(inplace=True)"
   ]
  },
  {
   "cell_type": "code",
   "execution_count": 261,
   "metadata": {},
   "outputs": [],
   "source": [
    "def keyword_lst(keyword):\n",
    "    tokens = word_tokenize(keyword)\n",
    "    tokens = [i for i in tokens if i not in stop_words]\n",
    "    tokens = [stemmer.stem(i) for i in tokens]\n",
    "    return tokens"
   ]
  },
  {
   "cell_type": "code",
   "execution_count": 262,
   "metadata": {},
   "outputs": [],
   "source": [
    "df['keyword_lst'] = df['keywords'].apply(keyword_lst)"
   ]
  },
  {
   "cell_type": "code",
   "execution_count": 263,
   "metadata": {},
   "outputs": [
    {
     "data": {
      "text/html": [
       "<div>\n",
       "<style scoped>\n",
       "    .dataframe tbody tr th:only-of-type {\n",
       "        vertical-align: middle;\n",
       "    }\n",
       "\n",
       "    .dataframe tbody tr th {\n",
       "        vertical-align: top;\n",
       "    }\n",
       "\n",
       "    .dataframe thead th {\n",
       "        text-align: right;\n",
       "    }\n",
       "</style>\n",
       "<table border=\"1\" class=\"dataframe\">\n",
       "  <thead>\n",
       "    <tr style=\"text-align: right;\">\n",
       "      <th></th>\n",
       "      <th>keywords</th>\n",
       "      <th>keyword_lst</th>\n",
       "    </tr>\n",
       "  </thead>\n",
       "  <tbody>\n",
       "    <tr>\n",
       "      <th>0</th>\n",
       "      <td>avoid jet lag flying to usa</td>\n",
       "      <td>[avoid, jet, lag, fli, usa]</td>\n",
       "    </tr>\n",
       "    <tr>\n",
       "      <th>1</th>\n",
       "      <td>effects of jet lag</td>\n",
       "      <td>[effect, jet, lag]</td>\n",
       "    </tr>\n",
       "    <tr>\n",
       "      <th>2</th>\n",
       "      <td>how long does jet lag last</td>\n",
       "      <td>[long, jet, lag, last]</td>\n",
       "    </tr>\n",
       "    <tr>\n",
       "      <th>3</th>\n",
       "      <td>how to deal with jet lag from asia</td>\n",
       "      <td>[deal, jet, lag, asia]</td>\n",
       "    </tr>\n",
       "    <tr>\n",
       "      <th>4</th>\n",
       "      <td>how to prevent jet lag on long flights</td>\n",
       "      <td>[prevent, jet, lag, long, flight]</td>\n",
       "    </tr>\n",
       "  </tbody>\n",
       "</table>\n",
       "</div>"
      ],
      "text/plain": [
       "                                 keywords                        keyword_lst\n",
       "0             avoid jet lag flying to usa        [avoid, jet, lag, fli, usa]\n",
       "1                      effects of jet lag                 [effect, jet, lag]\n",
       "2              how long does jet lag last             [long, jet, lag, last]\n",
       "3      how to deal with jet lag from asia             [deal, jet, lag, asia]\n",
       "4  how to prevent jet lag on long flights  [prevent, jet, lag, long, flight]"
      ]
     },
     "execution_count": 263,
     "metadata": {},
     "output_type": "execute_result"
    }
   ],
   "source": [
    "df.head()"
   ]
  },
  {
   "cell_type": "markdown",
   "metadata": {},
   "source": [
    "# Stem dictionaries"
   ]
  },
  {
   "cell_type": "code",
   "execution_count": 265,
   "metadata": {},
   "outputs": [],
   "source": [
    "def stem_dct(dct):\n",
    "    return_dct = dict()\n",
    "    for key, value in dct.items():\n",
    "        topic_dct = dict()\n",
    "        for topic, lst in value.items():\n",
    "            stemmed_lst = list()\n",
    "            for i in lst:\n",
    "                tokens = word_tokenize(i)\n",
    "                tokens = [i for i in tokens if i not in stop_words]\n",
    "                tokens = [stemmer.stem(i) for i in tokens]\n",
    "                stemmed_lst.append(tokens)\n",
    "            topic_dct[topic] = stemmed_lst\n",
    "        return_dct[key] = topic_dct\n",
    "    return return_dct"
   ]
  },
  {
   "cell_type": "code",
   "execution_count": 266,
   "metadata": {},
   "outputs": [],
   "source": [
    "topic_dct_stemmed = stem_dct(category_dct)"
   ]
  },
  {
   "cell_type": "markdown",
   "metadata": {},
   "source": [
    "# Categorise topics"
   ]
  },
  {
   "cell_type": "code",
   "execution_count": 269,
   "metadata": {},
   "outputs": [],
   "source": [
    "def categorise_topics(keyword_lst):\n",
    "    return_dct = dict()\n",
    "    for key, value in topic_dct_stemmed.items():\n",
    "        for topic, lst in value.items():\n",
    "            for i in lst:\n",
    "                if set(i).issubset(keyword_lst):\n",
    "                    return_dct[topic] = key\n",
    "    \n",
    "    if return_dct:\n",
    "        return return_dct\n",
    "    return None"
   ]
  },
  {
   "cell_type": "code",
   "execution_count": 270,
   "metadata": {},
   "outputs": [],
   "source": [
    "df['topics'] = df['keyword_lst'].apply(categorise_topics)"
   ]
  },
  {
   "cell_type": "code",
   "execution_count": 271,
   "metadata": {},
   "outputs": [
    {
     "data": {
      "text/html": [
       "<div>\n",
       "<style scoped>\n",
       "    .dataframe tbody tr th:only-of-type {\n",
       "        vertical-align: middle;\n",
       "    }\n",
       "\n",
       "    .dataframe tbody tr th {\n",
       "        vertical-align: top;\n",
       "    }\n",
       "\n",
       "    .dataframe thead th {\n",
       "        text-align: right;\n",
       "    }\n",
       "</style>\n",
       "<table border=\"1\" class=\"dataframe\">\n",
       "  <thead>\n",
       "    <tr style=\"text-align: right;\">\n",
       "      <th></th>\n",
       "      <th>keywords</th>\n",
       "      <th>keyword_lst</th>\n",
       "      <th>topics</th>\n",
       "    </tr>\n",
       "  </thead>\n",
       "  <tbody>\n",
       "    <tr>\n",
       "      <th>0</th>\n",
       "      <td>avoid jet lag flying to usa</td>\n",
       "      <td>[avoid, jet, lag, fli, usa]</td>\n",
       "      <td>{'jet lag': 'topic'}</td>\n",
       "    </tr>\n",
       "    <tr>\n",
       "      <th>1</th>\n",
       "      <td>effects of jet lag</td>\n",
       "      <td>[effect, jet, lag]</td>\n",
       "      <td>{'jet lag': 'topic'}</td>\n",
       "    </tr>\n",
       "    <tr>\n",
       "      <th>2</th>\n",
       "      <td>how long does jet lag last</td>\n",
       "      <td>[long, jet, lag, last]</td>\n",
       "      <td>{'jet lag': 'topic'}</td>\n",
       "    </tr>\n",
       "    <tr>\n",
       "      <th>3</th>\n",
       "      <td>how to deal with jet lag from asia</td>\n",
       "      <td>[deal, jet, lag, asia]</td>\n",
       "      <td>{'jet lag': 'topic'}</td>\n",
       "    </tr>\n",
       "    <tr>\n",
       "      <th>4</th>\n",
       "      <td>how to prevent jet lag on long flights</td>\n",
       "      <td>[prevent, jet, lag, long, flight]</td>\n",
       "      <td>{'jet lag': 'topic'}</td>\n",
       "    </tr>\n",
       "  </tbody>\n",
       "</table>\n",
       "</div>"
      ],
      "text/plain": [
       "                                 keywords                        keyword_lst  \\\n",
       "0             avoid jet lag flying to usa        [avoid, jet, lag, fli, usa]   \n",
       "1                      effects of jet lag                 [effect, jet, lag]   \n",
       "2              how long does jet lag last             [long, jet, lag, last]   \n",
       "3      how to deal with jet lag from asia             [deal, jet, lag, asia]   \n",
       "4  how to prevent jet lag on long flights  [prevent, jet, lag, long, flight]   \n",
       "\n",
       "                 topics  \n",
       "0  {'jet lag': 'topic'}  \n",
       "1  {'jet lag': 'topic'}  \n",
       "2  {'jet lag': 'topic'}  \n",
       "3  {'jet lag': 'topic'}  \n",
       "4  {'jet lag': 'topic'}  "
      ]
     },
     "execution_count": 271,
     "metadata": {},
     "output_type": "execute_result"
    }
   ],
   "source": [
    "df.head()"
   ]
  },
  {
   "cell_type": "markdown",
   "metadata": {},
   "source": [
    "# To aggregate\n",
    "- groupby on article ID\n",
    "- do dictionary per article id with coutns of different tags\n",
    "- put top 5 topics on the summary sheet"
   ]
  },
  {
   "cell_type": "code",
   "execution_count": null,
   "metadata": {},
   "outputs": [],
   "source": []
  },
  {
   "cell_type": "markdown",
   "metadata": {},
   "source": [
    "# Write file out"
   ]
  },
  {
   "cell_type": "code",
   "execution_count": 191,
   "metadata": {},
   "outputs": [],
   "source": [
    "df.to_csv('test.csv')"
   ]
  }
 ],
 "metadata": {
  "hide_input": false,
  "kernelspec": {
   "display_name": "Python 3",
   "language": "python",
   "name": "python3"
  },
  "language_info": {
   "codemirror_mode": {
    "name": "ipython",
    "version": 3
   },
   "file_extension": ".py",
   "mimetype": "text/x-python",
   "name": "python",
   "nbconvert_exporter": "python",
   "pygments_lexer": "ipython3",
   "version": "3.6.5"
  },
  "toc": {
   "base_numbering": 1,
   "nav_menu": {},
   "number_sections": true,
   "sideBar": true,
   "skip_h1_title": false,
   "title_cell": "Table of Contents",
   "title_sidebar": "Contents",
   "toc_cell": false,
   "toc_position": {},
   "toc_section_display": true,
   "toc_window_display": false
  }
 },
 "nbformat": 4,
 "nbformat_minor": 2
}
